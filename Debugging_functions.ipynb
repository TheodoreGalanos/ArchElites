{
 "cells": [
  {
   "cell_type": "code",
   "execution_count": 1,
   "metadata": {},
   "outputs": [],
   "source": [
    "import time\n",
    "from random import randrange, uniform, sample, random\n",
    "from copy import copy\n",
    "import math\n",
    "import numpy as np\n",
    "import pandas as pd\n",
    "\n",
    "from geometry import Geometry as geom\n",
    "from population import Offspring\n",
    "from utils import Utilities as util\n",
    "\n",
    "from ladybug.epw import EPW\n",
    "from PIL import Image, ImageFilter"
   ]
  },
  {
   "cell_type": "code",
   "execution_count": 2,
   "metadata": {},
   "outputs": [],
   "source": [
    "from population import Collection, Individual"
   ]
  },
  {
   "cell_type": "code",
   "execution_count": 3,
   "metadata": {},
   "outputs": [],
   "source": [
    "collection = Collection(r'F:\\PhD_Research\\CaseStudies\\MAP-Elites\\pv_urban\\case_2', \"F:\\PhD_Research\\CaseStudies\\MAP-Elites\\pv_urban\\colormap.csv\")"
   ]
  },
  {
   "cell_type": "code",
   "execution_count": 4,
   "metadata": {},
   "outputs": [],
   "source": [
    "directions = ['South', 'West', 'North', 'East']\n",
    "angles = [0, 90, 180, 270]"
   ]
  },
  {
   "cell_type": "code",
   "execution_count": 5,
   "metadata": {},
   "outputs": [],
   "source": [
    "domains = [(0, 0,   1.8, [120, 120, 255], 'sitting long' ),\n",
    "           (1, 1.8, 3.6, [120, 255, 255], 'sitting short'),\n",
    "           (2, 3.6, 5.3, [120, 255, 120], 'walking slow' ),\n",
    "           (3, 5.3, 7.6, [255, 255, 120], 'walking fast' ),\n",
    "           (4, 7.6, 15,  [255, 197, 110], 'uncomfortable'),\n",
    "           (5, 15,  100, [255, 120, 120], 'dangerous'    )]"
   ]
  },
  {
   "cell_type": "code",
   "execution_count": 6,
   "metadata": {},
   "outputs": [],
   "source": [
    "input_height_map = Image.open(\n",
    "    \"F:\\PhD_Research\\CaseStudies\\MAP-Elites\\pv_urban\\inference_server\\minimal-ml-serverCPU\\inferences\\individual_0.png\")"
   ]
  },
  {
   "cell_type": "code",
   "execution_count": 7,
   "metadata": {},
   "outputs": [
    {
     "name": "stderr",
     "output_type": "stream",
     "text": [
      "F:\\PhD_Research\\Software\\Mine\\archElites\\geometry.py:27: VisibleDeprecationWarning: Creating an ndarray from ragged nested sequences (which is a list-or-tuple of lists-or-tuples-or ndarrays with different lengths or shapes) is deprecated. If you meant to do this, you must specify 'dtype=object' when creating the ndarray\n",
      "  polygons = np.array(np.vsplit(points.reshape(-1, 1), np.cumsum(splits)))[:-1]\n"
     ]
    }
   ],
   "source": [
    "ind = Individual(collection, 5, collection.cmap, (512,512))"
   ]
  },
  {
   "cell_type": "code",
   "execution_count": 8,
   "metadata": {},
   "outputs": [],
   "source": [
    "for an in angles:\n",
    "    img = util.rotate_input(ind.draw_image(), an)\n",
    "    img.save(r'F:\\PhD_Research\\CaseStudies\\MAP-Elites\\pv_urban\\inference_server\\minimal-ml-serverCPU\\inferences\\individual_{}.png'.format(an))"
   ]
  },
  {
   "cell_type": "code",
   "execution_count": 9,
   "metadata": {},
   "outputs": [
    {
     "data": {
      "image/png": "[encoded data removed]",
      "text/plain": [
       "<PIL.Image.Image image mode=RGB size=512x512 at 0x2229249BD48>"
      ]
     },
     "execution_count": 9,
     "metadata": {},
     "output_type": "execute_result"
    }
   ],
   "source": [
    "util.rotate_to_origin(util.rotate_input(ind.draw_image(), 270), 512, 512, -270)"
   ]
  },
  {
   "cell_type": "code",
   "execution_count": 8,
   "metadata": {},
   "outputs": [],
   "source": [
    "from inference import run_inf"
   ]
  },
  {
   "cell_type": "code",
   "execution_count": 11,
   "metadata": {},
   "outputs": [],
   "source": [
    "import time"
   ]
  },
  {
   "cell_type": "code",
   "execution_count": 13,
   "metadata": {},
   "outputs": [
    {
     "data": {
      "text/plain": [
       "1603757427.8402977"
      ]
     },
     "execution_count": 13,
     "metadata": {},
     "output_type": "execute_result"
    }
   ],
   "source": [
    "time.time()"
   ]
  },
  {
   "cell_type": "code",
   "execution_count": 49,
   "metadata": {},
   "outputs": [
    {
     "name": "stdout",
     "output_type": "stream",
     "text": [
      "Finished inference\n",
      "total time: 2.286662\n"
     ]
    }
   ],
   "source": [
    "t = time.time()\n",
    "run_inf()\n",
    "e = time.time()\n",
    "print('total time: %f' % (e-t))"
   ]
  },
  {
   "cell_type": "code",
   "execution_count": 12,
   "metadata": {},
   "outputs": [],
   "source": [
    "epw_file = r'C:\\Users\\user\\ladybug_tools\\resources\\weather\\USA_MA_Boston-Logan.Intl.AP.725090_TMY3\\USA_MA_Boston-Logan.Intl.AP.725090_TMY3.epw'"
   ]
  },
  {
   "cell_type": "code",
   "execution_count": 13,
   "metadata": {},
   "outputs": [],
   "source": [
    "def parse_epw(epw_file):\n",
    "    # Extract Wind Direction and Speed Pairs\n",
    "    epw = EPW(epw_file)\n",
    "    wind_pairs = []\n",
    "    for wd, ws in zip(epw.wind_direction.values, epw.wind_speed.values):\n",
    "        if wd != 999 and ws != 999:\n",
    "            if wd == 360:\n",
    "                wd = 0\n",
    "            wind_pairs.append((wd, ws))\n",
    "\n",
    "    return wind_pairs"
   ]
  },
  {
   "cell_type": "code",
   "execution_count": 14,
   "metadata": {},
   "outputs": [],
   "source": [
    "pairs = parse_epw(epw_file)\n",
    "pairs = np.array(pairs)"
   ]
  },
  {
   "cell_type": "code",
   "execution_count": 15,
   "metadata": {},
   "outputs": [],
   "source": [
    "# South\n",
    "cond_s = np.logical_and(pairs[:, 0] >= 135,  pairs[:, 0] < 225)\n",
    "south_cat = np.where(cond_s)[0]\n",
    "# East\n",
    "cond_e = np.logical_and(pairs[:, 0] >= 45,  pairs[:, 0] < 135)\n",
    "east_cat = np.where(cond_e)[0]\n",
    "# North\n",
    "cond_n = np.logical_or(pairs[:, 0] >= 270,  pairs[:, 0] < 45)\n",
    "north_cat = np.where(cond_n)[0]\n",
    "# West\n",
    "cond_w = np.logical_and(pairs[:, 0] >= 225,  pairs[:, 0] < 270)\n",
    "west_cat = np.where(cond_w)[0]\n",
    "\n",
    "assert south_cat.shape[0] + east_cat.shape[0] + north_cat.shape[0] + west_cat.shape[0] == pairs.shape[0]"
   ]
  },
  {
   "cell_type": "code",
   "execution_count": 16,
   "metadata": {},
   "outputs": [],
   "source": [
    "pairs = pd.DataFrame(pairs, columns=['wd', 'ws'])\n",
    "\n",
    "pairs.loc[south_cat, 'wd'] = 180\n",
    "pairs.loc[east_cat, 'wd']  = 90\n",
    "pairs.loc[north_cat, 'wd'] = 0\n",
    "pairs.loc[west_cat, 'wd']  = 270"
   ]
  },
  {
   "cell_type": "code",
   "execution_count": 17,
   "metadata": {
    "scrolled": true
   },
   "outputs": [
    {
     "data": {
      "text/plain": [
       "array([4159, 1458, 1797, 1346], dtype=int64)"
      ]
     },
     "execution_count": 17,
     "metadata": {},
     "output_type": "execute_result"
    }
   ],
   "source": [
    "wind_counts = np.unique(np.array(pairs['wd']), return_counts=True)[1]\n",
    "wind_counts"
   ]
  },
  {
   "cell_type": "code",
   "execution_count": 18,
   "metadata": {},
   "outputs": [],
   "source": [
    "def remap_wind(pil_img, size=(256, 256)):\n",
    "    pil_img = Image.open(pil_img).resize(size)\n",
    "    pil_img = pil_img.convert('HSV')\n",
    "    h, s, v = pil_img.split()\n",
    "    remap = lambda h: int(170 * ((-(h - 170) / 85) + 1))\n",
    "    hue = [remap(max(170, h_)) for h_ in h.getdata()]\n",
    "    h.putdata(hue)\n",
    "    s.putdata([170] * len(hue))\n",
    "    v.putdata([255] * len(hue))\n",
    "    return Image.merge('HSV', (h, s, v)).convert('RGB')"
   ]
  },
  {
   "cell_type": "code",
   "execution_count": 19,
   "metadata": {},
   "outputs": [],
   "source": [
    "def wind_factors(pil_img):\n",
    "    #pil_img = Image.open(pil_img)\n",
    "    min_hue, max_hue = 170, 255\n",
    "    if pil_img.mode != 'HSV':\n",
    "        pil_img = pil_img.convert('HSV')\n",
    "    pil_img = pil_img.filter(ImageFilter.BLUR)\n",
    "    hue_npa = np.array(pil_img).astype(float)[:, :, 0]\n",
    "    return 1 - hue_npa / min_hue"
   ]
  },
  {
   "cell_type": "code",
   "execution_count": 20,
   "metadata": {},
   "outputs": [],
   "source": [
    "def snapshot(pil_img, input_height_map, wind_speed):\n",
    "    law_npa = wind_speed * wind_factors(pil_img)\n",
    "    map_npa = np.full((*law_npa.shape, 3), 255)\n",
    "    lawson_values = np.full((*law_npa.shape, 1), 0)\n",
    "    mask_npa = np.array(input_height_map.convert('L'))\n",
    "    mask_npa[mask_npa < 255] = 0\n",
    "    total_area = mask_npa.sum()\n",
    "    for dom in domains:\n",
    "        cond = (law_npa >= dom[1]) & (law_npa <= dom[2]) & (mask_npa == 255)\n",
    "        map_npa[..., :][cond] = dom[3]\n",
    "        lawson_values[..., :][cond] = dom[0]\n",
    "    return Image.fromarray(np.uint8(map_npa), mode=\"RGB\"), lawson_values, total_area"
   ]
  },
  {
   "cell_type": "code",
   "execution_count": 34,
   "metadata": {},
   "outputs": [],
   "source": [
    "lawson_0 = np.load(\n",
    "    \"F:\\PhD_Research\\CaseStudies\\MAP-Elites\\pv_urban\\inference_server\\minimal-ml-serverCPU\\inferences\\lawson_0.npy\").astype(int)\n",
    "lawson_90 = np.load(\n",
    "    \"F:\\PhD_Research\\CaseStudies\\MAP-Elites\\pv_urban\\inference_server\\minimal-ml-serverCPU\\inferences\\lawson_90.npy\").astype(int)\n",
    "lawson_180 = np.load(\n",
    "    \"F:\\PhD_Research\\CaseStudies\\MAP-Elites\\pv_urban\\inference_server\\minimal-ml-serverCPU\\inferences\\lawson_180.npy\").astype(int)\n",
    "lawson_270 = np.load(\n",
    "    \"F:\\PhD_Research\\CaseStudies\\MAP-Elites\\pv_urban\\inference_server\\minimal-ml-serverCPU\\inferences\\lawson_270.npy\").astype(int)"
   ]
  },
  {
   "cell_type": "markdown",
   "metadata": {},
   "source": [
    "# Fake yearly"
   ]
  },
  {
   "cell_type": "code",
   "execution_count": 22,
   "metadata": {
    "scrolled": true
   },
   "outputs": [],
   "source": [
    "yearly = np.ceil(((lawson_0 * wind_counts[0] + lawson_90 * wind_counts[1] + lawson_180 * wind_counts[2] \n",
    "          + lawson_270 * wind_counts[3]) / sum(wind_counts))).astype(int)"
   ]
  },
  {
   "cell_type": "code",
   "execution_count": 23,
   "metadata": {},
   "outputs": [],
   "source": [
    "yearly_img = np.full((512, 512, 3), 255)"
   ]
  },
  {
   "cell_type": "code",
   "execution_count": 24,
   "metadata": {},
   "outputs": [],
   "source": [
    "for i in range(yearly.shape[0]):\n",
    "    for j in range(yearly.shape[1]):\n",
    "        yearly_img[i, j, :] = domains[yearly[i, j][0]][3]"
   ]
  },
  {
   "cell_type": "code",
   "execution_count": 25,
   "metadata": {},
   "outputs": [
    {
     "data": {
      "image/png": "[encoded data removed]",
      "text/plain": [
       "<PIL.Image.Image image mode=RGB size=512x512 at 0x2229247B308>"
      ]
     },
     "execution_count": 25,
     "metadata": {},
     "output_type": "execute_result"
    }
   ],
   "source": [
    "Image.fromarray(np.uint8(yearly_img), mode=\"RGB\")"
   ]
  },
  {
   "cell_type": "code",
   "execution_count": 44,
   "metadata": {},
   "outputs": [],
   "source": [
    "all_values = [lawson_0, lawson_90, lawson_180, lawson_270]\n",
    "\n",
    "yearly = np.ceil(((all_values[0] * wind_counts[0] + all_values[1] * wind_counts[1] + all_values[2] * wind_counts[2] \n",
    "                   + all_values[3] * wind_counts[3]) / sum(wind_counts))).astype(int)"
   ]
  },
  {
   "cell_type": "code",
   "execution_count": 45,
   "metadata": {},
   "outputs": [],
   "source": [
    "yearly_img = np.full((512, 512, 3), 255)"
   ]
  },
  {
   "cell_type": "code",
   "execution_count": 46,
   "metadata": {},
   "outputs": [],
   "source": [
    "for i in range(yearly.shape[0]):\n",
    "    for j in range(yearly.shape[1]):\n",
    "        yearly_img[i, j, :] = domains[yearly[i, j][0]][3]"
   ]
  },
  {
   "cell_type": "code",
   "execution_count": 47,
   "metadata": {},
   "outputs": [
    {
     "data": {
      "image/png": "[encoded data removed]",
      "text/plain": [
       "<PIL.Image.Image image mode=RGB size=512x512 at 0x222920B6F08>"
      ]
     },
     "execution_count": 47,
     "metadata": {},
     "output_type": "execute_result"
    }
   ],
   "source": [
    "Image.fromarray(np.uint8(yearly_img), mode=\"RGB\")"
   ]
  },
  {
   "cell_type": "code",
   "execution_count": 26,
   "metadata": {},
   "outputs": [],
   "source": [
    "yearly = np.ceil(((lawson_0 + lawson_90 + lawson_180 + lawson_270) / 4)).astype(int)"
   ]
  },
  {
   "cell_type": "code",
   "execution_count": 27,
   "metadata": {},
   "outputs": [],
   "source": [
    "yearly_img = np.full((512, 512, 3), 255)"
   ]
  },
  {
   "cell_type": "code",
   "execution_count": 29,
   "metadata": {},
   "outputs": [],
   "source": [
    "for i in range(yearly.shape[0]):\n",
    "    for j in range(yearly.shape[1]):\n",
    "        yearly_img[i, j, :] = domains[yearly[i, j][0]][3]"
   ]
  },
  {
   "cell_type": "code",
   "execution_count": 30,
   "metadata": {},
   "outputs": [
    {
     "data": {
      "image/png": "[encoded data removed]",
      "text/plain": [
       "<PIL.Image.Image image mode=RGB size=512x512 at 0x222920B99C8>"
      ]
     },
     "execution_count": 30,
     "metadata": {},
     "output_type": "execute_result"
    }
   ],
   "source": [
    "Image.fromarray(np.uint8(yearly_img), mode=\"RGB\")"
   ]
  },
  {
   "cell_type": "markdown",
   "metadata": {},
   "source": [
    "# Proper yearly"
   ]
  },
  {
   "cell_type": "code",
   "execution_count": 39,
   "metadata": {},
   "outputs": [],
   "source": [
    "def yearly(wind_factor_npa, input_height_map, wind_pairs, size=(256, 256)):\n",
    "    mask_npa = np.array(input_height_map.convert('L').resize(size))\n",
    "    mask_npa[mask_npa < 255] = 0\n",
    "\n",
    "    # Find Lawson Criteria for Hourly Maps\n",
    "    counted_hours = len(wind_pairs)\n",
    "    lawson_npa = np.zeros((counted_hours, *reversed(input_height_map.size)))\n",
    "    for hr_idx, wp in enumerate(wind_pairs):\n",
    "        wd, ws = wp\n",
    "        vel_npa = wind_factor_npa[wd//10] * ws\n",
    "        for dom in domains:\n",
    "            cond = (vel_npa >= dom[1]) & (vel_npa <= dom[2]) & (mask_npa == 255)\n",
    "            lawson_npa[hr_idx][cond] = dom[0]\n",
    "\n",
    "    # Use Lawson Thresholds for a Single Yearly Comfort Map\n",
    "    yearly_lawson_npa = np.full((*mask_npa.shape, 3), 255)\n",
    "    ls = lawson_npa.shape\n",
    "    for i in range(ls[1]):\n",
    "        for j in range(ls[2]):\n",
    "\n",
    "            # Counter\n",
    "            uni = np.unique(lawson_npa[:, i, j], return_counts=True)\n",
    "            uni = np.pad(uni[1][uni[0].argsort()], (0, 6-len(uni)))\n",
    "\n",
    "            # Thresholds\n",
    "            threshold = 0.98 * counted_hours\n",
    "            if uni[0] >= threshold:\n",
    "                yearly_lawson_npa[i][j] = domains[0][3]\n",
    "            elif sum(uni[:2]) >= threshold:\n",
    "                yearly_lawson_npa[i][j] = domains[1][3]\n",
    "            elif sum(uni[:3]) >= threshold:\n",
    "                yearly_lawson_npa[i][j] = domains[2][3]\n",
    "            elif sum(uni[:4]) >= threshold:\n",
    "                yearly_lawson_npa[i][j] = domains[3][3]\n",
    "            elif uni[3] > 0.02 * counted_hours and uni[5] < 2:\n",
    "                yearly_lawson_npa[i][j] = domains[4][3]\n",
    "            else:\n",
    "                yearly_lawson_npa[i][j] = domains[5][3]\n",
    "\n",
    "    return Image.fromarray(np.uint8(yearly_lawson_npa), mode=\"RGB\")"
   ]
  },
  {
   "cell_type": "code",
   "execution_count": null,
   "metadata": {},
   "outputs": [],
   "source": [
    "yearly"
   ]
  },
  {
   "cell_type": "code",
   "execution_count": 45,
   "metadata": {},
   "outputs": [],
   "source": [
    "pairs_sorted = pairs.sort_values(by='wd')\n",
    "counts = wind_counts.cumsum()\n",
    "\n",
    "dir_0 = pairs_sorted[:counts[0]]['ws'].values\n",
    "dir_1 = pairs_sorted[counts[0]:counts[1]]['ws'].values\n",
    "dir_2 = pairs_sorted[counts[1]:counts[2]]['ws'].values\n",
    "dir_3 = pairs_sorted[counts[2]:counts[3]]['ws'].values"
   ]
  },
  {
   "cell_type": "code",
   "execution_count": 46,
   "metadata": {},
   "outputs": [],
   "source": [
    "prediction_0 = \"F:\\PhD_Research\\CaseStudies\\MAP-Elites\\pv_urban\\inference_server\\minimal-ml-serverCPU\\inferences\\prediction_0.png\"\n",
    "prediction_1 = \"F:\\PhD_Research\\CaseStudies\\MAP-Elites\\pv_urban\\inference_server\\minimal-ml-serverCPU\\inferences\\prediction_90.png\"\n",
    "prediction_2 = \"F:\\PhD_Research\\CaseStudies\\MAP-Elites\\pv_urban\\inference_server\\minimal-ml-serverCPU\\inferences\\prediction_180.png\"\n",
    "prediction_3 = \"F:\\PhD_Research\\CaseStudies\\MAP-Elites\\pv_urban\\inference_server\\minimal-ml-serverCPU\\inferences\\prediction_270.png\""
   ]
  },
  {
   "cell_type": "code",
   "execution_count": 47,
   "metadata": {},
   "outputs": [],
   "source": [
    "wf_0 = wind_factors(remap_wind(prediction_0))\n",
    "year_0 = [ws * wf_0 for ws in dir_0]\n",
    "wf_1 = wind_factors(remap_wind(prediction_1))\n",
    "year_1 = [ws * wf_1 for ws in dir_1]\n",
    "wf_2 = wind_factors(remap_wind(prediction_2))\n",
    "year_2 = [ws * wf_2 for ws in dir_2]\n",
    "wf_3 = wind_factors(remap_wind(prediction_3))\n",
    "year_3 = [ws * wf_3 for ws in dir_3]"
   ]
  },
  {
   "cell_type": "code",
   "execution_count": 48,
   "metadata": {},
   "outputs": [
    {
     "data": {
      "text/plain": [
       "(8760, 256, 256)"
      ]
     },
     "execution_count": 48,
     "metadata": {},
     "output_type": "execute_result"
    }
   ],
   "source": [
    "yearly_wf = np.vstack((year_0, year_1, year_2, year_3)).squeeze()\n",
    "yearly_wf.shape"
   ]
  },
  {
   "cell_type": "code",
   "execution_count": 49,
   "metadata": {},
   "outputs": [],
   "source": [
    "del wf_0, wf_1, wf_2, wf_3\n",
    "del year_0, year_1, year_2, year_3"
   ]
  },
  {
   "cell_type": "code",
   "execution_count": 61,
   "metadata": {},
   "outputs": [],
   "source": [
    "counted_hours = len(pairs)\n",
    "lawson_npa = np.zeros((counted_hours, *reversed((256,256))))"
   ]
  },
  {
   "cell_type": "code",
   "execution_count": 78,
   "metadata": {},
   "outputs": [],
   "source": [
    "for hr_idx, wf in enumerate(yearly_wf):\n",
    "    for dom in domains:\n",
    "        cond = (wf >= dom[1]) & (wf <= dom[2]) & (mask_npa == 255)\n",
    "        lawson_npa[hr_idx][cond] = dom[0]"
   ]
  },
  {
   "cell_type": "code",
   "execution_count": 80,
   "metadata": {},
   "outputs": [],
   "source": [
    "# Use Lawson Thresholds for a Single Yearly Comfort Map\n",
    "yearly_lawson_npa = np.full((*mask_npa.shape, 3), 255)\n",
    "ls = lawson_npa.shape\n",
    "for i in range(ls[1]):\n",
    "    for j in range(ls[2]):\n",
    "\n",
    "        # Counter\n",
    "        uni = np.unique(lawson_npa[:, i, j], return_counts=True)\n",
    "        uni = np.pad(uni[1][uni[0].argsort()], (0, 6-len(uni)))\n",
    "\n",
    "        # Thresholds\n",
    "        threshold = 0.98 * counted_hours\n",
    "        if uni[0] >= threshold:\n",
    "            yearly_lawson_npa[i][j] = domains[0][3]\n",
    "        elif sum(uni[:2]) >= threshold:\n",
    "            yearly_lawson_npa[i][j] = domains[1][3]\n",
    "        elif sum(uni[:3]) >= threshold:\n",
    "            yearly_lawson_npa[i][j] = domains[2][3]\n",
    "        elif sum(uni[:4]) >= threshold:\n",
    "            yearly_lawson_npa[i][j] = domains[3][3]\n",
    "        elif uni[3] > 0.02 * counted_hours and uni[5] < 2:\n",
    "            yearly_lawson_npa[i][j] = domains[4][3]\n",
    "        else:\n",
    "            yearly_lawson_npa[i][j] = domains[5][3]"
   ]
  },
  {
   "cell_type": "code",
   "execution_count": 81,
   "metadata": {},
   "outputs": [
    {
     "data": {
      "image/png": "[encoded data removed]",
      "text/plain": [
       "<PIL.Image.Image image mode=RGB size=256x256 at 0x2A2A2513148>"
      ]
     },
     "execution_count": 81,
     "metadata": {},
     "output_type": "execute_result"
    }
   ],
   "source": [
    "Image.fromarray(np.uint8(yearly_lawson_npa), mode=\"RGB\")"
   ]
  },
  {
   "cell_type": "code",
   "execution_count": 50,
   "metadata": {
    "scrolled": true
   },
   "outputs": [],
   "source": [
    "lawson_results = np.load(\n",
    "    \"F:\\PhD_Research\\CaseStudies\\MAP-Elites\\pv_urban\\inference_server\\minimal-ml-serverCPU\\inferences\\yearly_lawson.npy\")"
   ]
  },
  {
   "cell_type": "code",
   "execution_count": 52,
   "metadata": {},
   "outputs": [],
   "source": [
    "total_area = np.load(r\"F:\\PhD_Research\\CaseStudies\\MAP-Elites\\pv_urban\\inference_server\\minimal-ml-serverCPU\\inferences\\area_0.npy\")"
   ]
  },
  {
   "cell_type": "code",
   "execution_count": 54,
   "metadata": {},
   "outputs": [],
   "source": [
    "unique, counts = np.unique(lawson_results, return_counts=True)"
   ]
  },
  {
   "cell_type": "code",
   "execution_count": 55,
   "metadata": {},
   "outputs": [
    {
     "data": {
      "text/plain": [
       "array([0, 1, 2, 3, 4])"
      ]
     },
     "execution_count": 55,
     "metadata": {},
     "output_type": "execute_result"
    }
   ],
   "source": [
    "unique"
   ]
  },
  {
   "cell_type": "code",
   "execution_count": 56,
   "metadata": {},
   "outputs": [],
   "source": [
    "unique, counts = np.unique(lawson_results, return_counts=True)\n",
    "\n",
    "try:\n",
    "    sitting = np.sum(counts[np.where(unique==0)[0]])\n",
    "except:\n",
    "    sitting = 0\n",
    "\n",
    "try:\n",
    "    dangerous = np.sum(counts[np.where(unique>=4)[0]])\n",
    "except:\n",
    "    dangerous = 0\n",
    "\n",
    "sitting_percentage = (sitting / total_area.item()) * 100\n",
    "dangerous_percentage = (dangerous / total_area.item()) * 100\n",
    "\n",
    "#lawson_sitting.append(sitting_percentage)\n",
    "#lawson_dangerous.append(dangerous_percentage)"
   ]
  },
  {
   "cell_type": "code",
   "execution_count": 57,
   "metadata": {},
   "outputs": [
    {
     "data": {
      "text/plain": [
       "(0.3019646277328311, 4.804273882045467e-05)"
      ]
     },
     "execution_count": 57,
     "metadata": {},
     "output_type": "execute_result"
    }
   ],
   "source": [
    "sitting_percentage, dangerous_percentage"
   ]
  },
  {
   "cell_type": "code",
   "execution_count": 60,
   "metadata": {},
   "outputs": [
    {
     "data": {
      "text/plain": [
       "(37712.0, 2)"
      ]
     },
     "execution_count": 60,
     "metadata": {},
     "output_type": "execute_result"
    }
   ],
   "source": [
    "sitting/4,2"
   ]
  },
  {
   "cell_type": "code",
   "execution_count": 61,
   "metadata": {},
   "outputs": [
    {
     "data": {
      "text/plain": [
       "5.714285714285714"
      ]
     },
     "execution_count": 61,
     "metadata": {},
     "output_type": "execute_result"
    }
   ],
   "source": [
    "dangerous/4.2"
   ]
  },
  {
   "cell_type": "code",
   "execution_count": null,
   "metadata": {},
   "outputs": [],
   "source": []
  }
 ],
 "metadata": {
  "kernelspec": {
   "display_name": "py4design",
   "language": "python",
   "name": "py4design"
  },
  "language_info": {
   "codemirror_mode": {
    "name": "ipython",
    "version": 3
   },
   "file_extension": ".py",
   "mimetype": "text/x-python",
   "name": "python",
   "nbconvert_exporter": "python",
   "pygments_lexer": "ipython3",
   "version": "3.7.9"
  },
  "toc": {
   "base_numbering": 1,
   "nav_menu": {},
   "number_sections": true,
   "sideBar": true,
   "skip_h1_title": false,
   "title_cell": "Table of Contents",
   "title_sidebar": "Contents",
   "toc_cell": false,
   "toc_position": {},
   "toc_section_display": true,
   "toc_window_display": false
  }
 },
 "nbformat": 4,
 "nbformat_minor": 4
}
